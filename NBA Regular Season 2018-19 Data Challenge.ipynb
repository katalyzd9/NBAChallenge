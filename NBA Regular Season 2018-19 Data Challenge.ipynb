{
 "cells": [
  {
   "cell_type": "markdown",
   "metadata": {},
   "source": [
    "# Nba Regular Season 2018-19 Data Challenge\n",
    "\n",
    "Your task will be to take the dataset given, and create an analysis answering the following 10 questions. This project will again test your knowledge of pandas in order to find the answers needed given the data you are presented with."
   ]
  },
  {
   "cell_type": "markdown",
   "metadata": {},
   "source": [
    "# What was the average age of player in the league?"
   ]
  },
  {
   "cell_type": "code",
   "execution_count": 30,
   "metadata": {},
   "outputs": [
    {
     "data": {
      "text/plain": [
       "Index(['Name', 'Height', 'Weight', 'Team', 'Age', 'Salary', 'Points', 'Blocks',\n",
       "       'Steals', 'Assists', 'Rebounds', 'FT%', 'FTA', 'FG3%', 'FG3A', 'FG%',\n",
       "       'FGA', 'MP', 'G', 'PER', 'OWS', 'DWS', 'WS', 'WS48', 'USG', 'BPM',\n",
       "       'VORP'],\n",
       "      dtype='object')"
      ]
     },
     "execution_count": 30,
     "metadata": {},
     "output_type": "execute_result"
    }
   ],
   "source": [
    "import numpy as np\n",
    "import pandas as pd\n",
    "import matplotlib.pyplot as plt\n",
    "nba_1819 = pd.read_csv('nbastats2018-2019.csv')\n",
    "nba_1819.columns\n",
    "\n",
    "# most_points = nba_1819['PTS'].max()\n",
    "# player_with_most_points = nba_1819.loc[nba_1819['Points'] == most_points, 'Player'].values[0]"
   ]
  },
  {
   "cell_type": "markdown",
   "metadata": {},
   "source": [
    "# What player scored the most points?"
   ]
  },
  {
   "cell_type": "code",
   "execution_count": 31,
   "metadata": {},
   "outputs": [
    {
     "data": {
      "text/plain": [
       "'James Harden'"
      ]
     },
     "execution_count": 31,
     "metadata": {},
     "output_type": "execute_result"
    }
   ],
   "source": [
    "# nba_1819.sort_values(by = \"Points\", ascending = False\n",
    "\n",
    "\n",
    "most_points = nba_1819['Points'].max()\n",
    "player_with_most_points = nba_1819.loc[nba_1819['Points'] == most_points, 'Name'].values[0]\n",
    "\n",
    "player_with_most_points"
   ]
  },
  {
   "cell_type": "markdown",
   "metadata": {},
   "source": [
    "# What player had the most blocks during the season? Was it a post player (F/C)?"
   ]
  },
  {
   "cell_type": "code",
   "execution_count": 32,
   "metadata": {},
   "outputs": [
    {
     "data": {
      "text/html": [
       "<div>\n",
       "<style scoped>\n",
       "    .dataframe tbody tr th:only-of-type {\n",
       "        vertical-align: middle;\n",
       "    }\n",
       "\n",
       "    .dataframe tbody tr th {\n",
       "        vertical-align: top;\n",
       "    }\n",
       "\n",
       "    .dataframe thead th {\n",
       "        text-align: right;\n",
       "    }\n",
       "</style>\n",
       "<table border=\"1\" class=\"dataframe\">\n",
       "  <thead>\n",
       "    <tr style=\"text-align: right;\">\n",
       "      <th></th>\n",
       "      <th>Name</th>\n",
       "      <th>Height</th>\n",
       "      <th>Weight</th>\n",
       "      <th>Team</th>\n",
       "      <th>Age</th>\n",
       "      <th>Salary</th>\n",
       "      <th>Points</th>\n",
       "      <th>Blocks</th>\n",
       "      <th>Steals</th>\n",
       "      <th>Assists</th>\n",
       "      <th>...</th>\n",
       "      <th>MP</th>\n",
       "      <th>G</th>\n",
       "      <th>PER</th>\n",
       "      <th>OWS</th>\n",
       "      <th>DWS</th>\n",
       "      <th>WS</th>\n",
       "      <th>WS48</th>\n",
       "      <th>USG</th>\n",
       "      <th>BPM</th>\n",
       "      <th>VORP</th>\n",
       "    </tr>\n",
       "  </thead>\n",
       "  <tbody>\n",
       "    <tr>\n",
       "      <th>476</th>\n",
       "      <td>Myles Turner</td>\n",
       "      <td>83</td>\n",
       "      <td>250</td>\n",
       "      <td>Indiana Pacers</td>\n",
       "      <td>22</td>\n",
       "      <td>3410284</td>\n",
       "      <td>13.3</td>\n",
       "      <td>2.7</td>\n",
       "      <td>0.8</td>\n",
       "      <td>1.6</td>\n",
       "      <td>...</td>\n",
       "      <td>28.6</td>\n",
       "      <td>74</td>\n",
       "      <td>18.0</td>\n",
       "      <td>1.9</td>\n",
       "      <td>4.4</td>\n",
       "      <td>6.3</td>\n",
       "      <td>0.144</td>\n",
       "      <td>20.0</td>\n",
       "      <td>3.3</td>\n",
       "      <td>2.8</td>\n",
       "    </tr>\n",
       "    <tr>\n",
       "      <th>123</th>\n",
       "      <td>Anthony Davis</td>\n",
       "      <td>82</td>\n",
       "      <td>253</td>\n",
       "      <td>New Orleans Pelicans</td>\n",
       "      <td>25</td>\n",
       "      <td>25434263</td>\n",
       "      <td>25.9</td>\n",
       "      <td>2.4</td>\n",
       "      <td>1.6</td>\n",
       "      <td>3.9</td>\n",
       "      <td>...</td>\n",
       "      <td>33.0</td>\n",
       "      <td>56</td>\n",
       "      <td>30.3</td>\n",
       "      <td>6.4</td>\n",
       "      <td>3.1</td>\n",
       "      <td>9.5</td>\n",
       "      <td>0.247</td>\n",
       "      <td>29.5</td>\n",
       "      <td>8.5</td>\n",
       "      <td>4.9</td>\n",
       "    </tr>\n",
       "    <tr>\n",
       "      <th>419</th>\n",
       "      <td>Mitchell Robinson</td>\n",
       "      <td>85</td>\n",
       "      <td>240</td>\n",
       "      <td>New York Knicks</td>\n",
       "      <td>20</td>\n",
       "      <td>1485440</td>\n",
       "      <td>7.3</td>\n",
       "      <td>2.4</td>\n",
       "      <td>0.8</td>\n",
       "      <td>0.6</td>\n",
       "      <td>...</td>\n",
       "      <td>20.6</td>\n",
       "      <td>66</td>\n",
       "      <td>22.0</td>\n",
       "      <td>4.0</td>\n",
       "      <td>2.2</td>\n",
       "      <td>6.1</td>\n",
       "      <td>0.217</td>\n",
       "      <td>12.1</td>\n",
       "      <td>5.7</td>\n",
       "      <td>2.7</td>\n",
       "    </tr>\n",
       "    <tr>\n",
       "      <th>183</th>\n",
       "      <td>Rudy Gobert</td>\n",
       "      <td>85</td>\n",
       "      <td>245</td>\n",
       "      <td>Utah Jazz</td>\n",
       "      <td>26</td>\n",
       "      <td>23241573</td>\n",
       "      <td>15.9</td>\n",
       "      <td>2.3</td>\n",
       "      <td>0.8</td>\n",
       "      <td>2.0</td>\n",
       "      <td>...</td>\n",
       "      <td>31.8</td>\n",
       "      <td>81</td>\n",
       "      <td>24.6</td>\n",
       "      <td>8.7</td>\n",
       "      <td>5.7</td>\n",
       "      <td>14.4</td>\n",
       "      <td>0.268</td>\n",
       "      <td>17.8</td>\n",
       "      <td>7.0</td>\n",
       "      <td>5.9</td>\n",
       "    </tr>\n",
       "    <tr>\n",
       "      <th>303</th>\n",
       "      <td>Brook Lopez</td>\n",
       "      <td>84</td>\n",
       "      <td>270</td>\n",
       "      <td>Milwaukee Bucks</td>\n",
       "      <td>30</td>\n",
       "      <td>3382000</td>\n",
       "      <td>12.5</td>\n",
       "      <td>2.2</td>\n",
       "      <td>0.6</td>\n",
       "      <td>1.2</td>\n",
       "      <td>...</td>\n",
       "      <td>28.7</td>\n",
       "      <td>81</td>\n",
       "      <td>14.6</td>\n",
       "      <td>2.3</td>\n",
       "      <td>4.3</td>\n",
       "      <td>6.7</td>\n",
       "      <td>0.138</td>\n",
       "      <td>16.7</td>\n",
       "      <td>2.7</td>\n",
       "      <td>2.8</td>\n",
       "    </tr>\n",
       "    <tr>\n",
       "      <th>...</th>\n",
       "      <td>...</td>\n",
       "      <td>...</td>\n",
       "      <td>...</td>\n",
       "      <td>...</td>\n",
       "      <td>...</td>\n",
       "      <td>...</td>\n",
       "      <td>...</td>\n",
       "      <td>...</td>\n",
       "      <td>...</td>\n",
       "      <td>...</td>\n",
       "      <td>...</td>\n",
       "      <td>...</td>\n",
       "      <td>...</td>\n",
       "      <td>...</td>\n",
       "      <td>...</td>\n",
       "      <td>...</td>\n",
       "      <td>...</td>\n",
       "      <td>...</td>\n",
       "      <td>...</td>\n",
       "      <td>...</td>\n",
       "      <td>...</td>\n",
       "    </tr>\n",
       "    <tr>\n",
       "      <th>416</th>\n",
       "      <td>Duncan Robinson</td>\n",
       "      <td>80</td>\n",
       "      <td>210</td>\n",
       "      <td>NaN</td>\n",
       "      <td>24</td>\n",
       "      <td>-</td>\n",
       "      <td>3.3</td>\n",
       "      <td>0.0</td>\n",
       "      <td>0.3</td>\n",
       "      <td>0.3</td>\n",
       "      <td>...</td>\n",
       "      <td>10.7</td>\n",
       "      <td>15</td>\n",
       "      <td>7.6</td>\n",
       "      <td>0.0</td>\n",
       "      <td>0.2</td>\n",
       "      <td>0.2</td>\n",
       "      <td>0.051</td>\n",
       "      <td>14.0</td>\n",
       "      <td>-4.2</td>\n",
       "      <td>-0.1</td>\n",
       "    </tr>\n",
       "    <tr>\n",
       "      <th>413</th>\n",
       "      <td>Malachi Richardson</td>\n",
       "      <td>78</td>\n",
       "      <td>205</td>\n",
       "      <td>Philadelphia 76ers</td>\n",
       "      <td>23</td>\n",
       "      <td>1569360</td>\n",
       "      <td>1.4</td>\n",
       "      <td>0.0</td>\n",
       "      <td>0.0</td>\n",
       "      <td>0.0</td>\n",
       "      <td>...</td>\n",
       "      <td>4.7</td>\n",
       "      <td>22</td>\n",
       "      <td>0.9</td>\n",
       "      <td>-0.2</td>\n",
       "      <td>0.1</td>\n",
       "      <td>-0.1</td>\n",
       "      <td>-0.060</td>\n",
       "      <td>16.4</td>\n",
       "      <td>-10.8</td>\n",
       "      <td>-0.2</td>\n",
       "    </tr>\n",
       "    <tr>\n",
       "      <th>410</th>\n",
       "      <td>Davon Reed</td>\n",
       "      <td>77</td>\n",
       "      <td>208</td>\n",
       "      <td>Phoenix Suns</td>\n",
       "      <td>23</td>\n",
       "      <td>1378242</td>\n",
       "      <td>1.2</td>\n",
       "      <td>0.0</td>\n",
       "      <td>0.1</td>\n",
       "      <td>0.3</td>\n",
       "      <td>...</td>\n",
       "      <td>4.7</td>\n",
       "      <td>10</td>\n",
       "      <td>8.1</td>\n",
       "      <td>0.0</td>\n",
       "      <td>0.0</td>\n",
       "      <td>0.1</td>\n",
       "      <td>0.064</td>\n",
       "      <td>12.1</td>\n",
       "      <td>-4.2</td>\n",
       "      <td>0.0</td>\n",
       "    </tr>\n",
       "    <tr>\n",
       "      <th>259</th>\n",
       "      <td>B.J. Johnson</td>\n",
       "      <td>79</td>\n",
       "      <td>200</td>\n",
       "      <td>Atlanta Hawks</td>\n",
       "      <td>23</td>\n",
       "      <td>94742</td>\n",
       "      <td>3.3</td>\n",
       "      <td>0.0</td>\n",
       "      <td>0.3</td>\n",
       "      <td>0.0</td>\n",
       "      <td>...</td>\n",
       "      <td>7.0</td>\n",
       "      <td>7</td>\n",
       "      <td>12.8</td>\n",
       "      <td>0.0</td>\n",
       "      <td>0.0</td>\n",
       "      <td>0.1</td>\n",
       "      <td>0.066</td>\n",
       "      <td>17.4</td>\n",
       "      <td>-8.5</td>\n",
       "      <td>-0.1</td>\n",
       "    </tr>\n",
       "    <tr>\n",
       "      <th>147</th>\n",
       "      <td>Trevon Duval</td>\n",
       "      <td>74</td>\n",
       "      <td>189</td>\n",
       "      <td>NaN</td>\n",
       "      <td>20</td>\n",
       "      <td>-</td>\n",
       "      <td>1.7</td>\n",
       "      <td>0.0</td>\n",
       "      <td>0.0</td>\n",
       "      <td>0.7</td>\n",
       "      <td>...</td>\n",
       "      <td>2.0</td>\n",
       "      <td>3</td>\n",
       "      <td>38.3</td>\n",
       "      <td>0.1</td>\n",
       "      <td>0.0</td>\n",
       "      <td>0.1</td>\n",
       "      <td>0.537</td>\n",
       "      <td>20.9</td>\n",
       "      <td>9.7</td>\n",
       "      <td>0.0</td>\n",
       "    </tr>\n",
       "  </tbody>\n",
       "</table>\n",
       "<p>521 rows × 27 columns</p>\n",
       "</div>"
      ],
      "text/plain": [
       "                   Name  Height  Weight                  Team  Age    Salary  \\\n",
       "476        Myles Turner      83     250        Indiana Pacers   22   3410284   \n",
       "123       Anthony Davis      82     253  New Orleans Pelicans   25  25434263   \n",
       "419   Mitchell Robinson      85     240       New York Knicks   20   1485440   \n",
       "183         Rudy Gobert      85     245             Utah Jazz   26  23241573   \n",
       "303         Brook Lopez      84     270       Milwaukee Bucks   30   3382000   \n",
       "..                  ...     ...     ...                   ...  ...       ...   \n",
       "416     Duncan Robinson      80     210                   NaN   24         -   \n",
       "413  Malachi Richardson      78     205    Philadelphia 76ers   23   1569360   \n",
       "410          Davon Reed      77     208          Phoenix Suns   23   1378242   \n",
       "259        B.J. Johnson      79     200         Atlanta Hawks   23     94742   \n",
       "147        Trevon Duval      74     189                   NaN   20         -   \n",
       "\n",
       "     Points  Blocks  Steals  Assists  ...    MP   G   PER  OWS  DWS    WS  \\\n",
       "476    13.3     2.7     0.8      1.6  ...  28.6  74  18.0  1.9  4.4   6.3   \n",
       "123    25.9     2.4     1.6      3.9  ...  33.0  56  30.3  6.4  3.1   9.5   \n",
       "419     7.3     2.4     0.8      0.6  ...  20.6  66  22.0  4.0  2.2   6.1   \n",
       "183    15.9     2.3     0.8      2.0  ...  31.8  81  24.6  8.7  5.7  14.4   \n",
       "303    12.5     2.2     0.6      1.2  ...  28.7  81  14.6  2.3  4.3   6.7   \n",
       "..      ...     ...     ...      ...  ...   ...  ..   ...  ...  ...   ...   \n",
       "416     3.3     0.0     0.3      0.3  ...  10.7  15   7.6  0.0  0.2   0.2   \n",
       "413     1.4     0.0     0.0      0.0  ...   4.7  22   0.9 -0.2  0.1  -0.1   \n",
       "410     1.2     0.0     0.1      0.3  ...   4.7  10   8.1  0.0  0.0   0.1   \n",
       "259     3.3     0.0     0.3      0.0  ...   7.0   7  12.8  0.0  0.0   0.1   \n",
       "147     1.7     0.0     0.0      0.7  ...   2.0   3  38.3  0.1  0.0   0.1   \n",
       "\n",
       "      WS48   USG   BPM  VORP  \n",
       "476  0.144  20.0   3.3   2.8  \n",
       "123  0.247  29.5   8.5   4.9  \n",
       "419  0.217  12.1   5.7   2.7  \n",
       "183  0.268  17.8   7.0   5.9  \n",
       "303  0.138  16.7   2.7   2.8  \n",
       "..     ...   ...   ...   ...  \n",
       "416  0.051  14.0  -4.2  -0.1  \n",
       "413 -0.060  16.4 -10.8  -0.2  \n",
       "410  0.064  12.1  -4.2   0.0  \n",
       "259  0.066  17.4  -8.5  -0.1  \n",
       "147  0.537  20.9   9.7   0.0  \n",
       "\n",
       "[521 rows x 27 columns]"
      ]
     },
     "execution_count": 32,
     "metadata": {},
     "output_type": "execute_result"
    }
   ],
   "source": [
    "nba_1819.sort_values(by = 'Blocks', ascending = False)"
   ]
  },
  {
   "cell_type": "markdown",
   "metadata": {},
   "source": [
    "# Based on the regular season, who had the best chance to win a title given their win percentage?"
   ]
  },
  {
   "cell_type": "code",
   "execution_count": 51,
   "metadata": {},
   "outputs": [
    {
     "data": {
      "text/plain": [
       "'Atlanta Hawks'"
      ]
     },
     "execution_count": 51,
     "metadata": {},
     "output_type": "execute_result"
    }
   ],
   "source": [
    "win_pct = df.groupby('Team')['FG%'].max()\n",
    "best_chance = win_pct.idxmax()\n",
    "best_chance"
   ]
  },
  {
   "cell_type": "markdown",
   "metadata": {},
   "source": [
    "# What player had the best 3-pt percentage? "
   ]
  },
  {
   "cell_type": "code",
   "execution_count": 44,
   "metadata": {},
   "outputs": [
    {
     "data": {
      "text/plain": [
       "'Eric Moreland'"
      ]
     },
     "execution_count": 44,
     "metadata": {},
     "output_type": "execute_result"
    }
   ],
   "source": [
    "best_3pt = df.groupby('Name')['FG3%'].max()\n",
    "player = best_3pt.idxmax()\n",
    "player\n"
   ]
  },
  {
   "cell_type": "markdown",
   "metadata": {},
   "source": [
    "# Who played the most minutes during the season"
   ]
  },
  {
   "cell_type": "code",
   "execution_count": 41,
   "metadata": {},
   "outputs": [
    {
     "data": {
      "text/html": [
       "<div>\n",
       "<style scoped>\n",
       "    .dataframe tbody tr th:only-of-type {\n",
       "        vertical-align: middle;\n",
       "    }\n",
       "\n",
       "    .dataframe tbody tr th {\n",
       "        vertical-align: top;\n",
       "    }\n",
       "\n",
       "    .dataframe thead th {\n",
       "        text-align: right;\n",
       "    }\n",
       "</style>\n",
       "<table border=\"1\" class=\"dataframe\">\n",
       "  <thead>\n",
       "    <tr style=\"text-align: right;\">\n",
       "      <th></th>\n",
       "      <th>Name</th>\n",
       "      <th>total_min</th>\n",
       "      <th>MP</th>\n",
       "      <th>G</th>\n",
       "    </tr>\n",
       "  </thead>\n",
       "  <tbody>\n",
       "    <tr>\n",
       "      <th>37</th>\n",
       "      <td>Bradley Beal</td>\n",
       "      <td>3025.8</td>\n",
       "      <td>36.9</td>\n",
       "      <td>82</td>\n",
       "    </tr>\n",
       "    <tr>\n",
       "      <th>202</th>\n",
       "      <td>James Harden</td>\n",
       "      <td>2870.4</td>\n",
       "      <td>36.8</td>\n",
       "      <td>78</td>\n",
       "    </tr>\n",
       "    <tr>\n",
       "      <th>486</th>\n",
       "      <td>Kemba Walker</td>\n",
       "      <td>2861.8</td>\n",
       "      <td>34.9</td>\n",
       "      <td>82</td>\n",
       "    </tr>\n",
       "    <tr>\n",
       "      <th>208</th>\n",
       "      <td>Tobias Harris</td>\n",
       "      <td>2845.4</td>\n",
       "      <td>34.7</td>\n",
       "      <td>82</td>\n",
       "    </tr>\n",
       "    <tr>\n",
       "      <th>179</th>\n",
       "      <td>Paul George</td>\n",
       "      <td>2841.3</td>\n",
       "      <td>36.9</td>\n",
       "      <td>77</td>\n",
       "    </tr>\n",
       "    <tr>\n",
       "      <th>...</th>\n",
       "      <td>...</td>\n",
       "      <td>...</td>\n",
       "      <td>...</td>\n",
       "      <td>...</td>\n",
       "    </tr>\n",
       "    <tr>\n",
       "      <th>268</th>\n",
       "      <td>Terrence Jones</td>\n",
       "      <td>5.0</td>\n",
       "      <td>2.5</td>\n",
       "      <td>2</td>\n",
       "    </tr>\n",
       "    <tr>\n",
       "      <th>439</th>\n",
       "      <td>Jordan Sibert</td>\n",
       "      <td>4.0</td>\n",
       "      <td>4.0</td>\n",
       "      <td>1</td>\n",
       "    </tr>\n",
       "    <tr>\n",
       "      <th>192</th>\n",
       "      <td>Donte Grantham</td>\n",
       "      <td>2.1</td>\n",
       "      <td>0.7</td>\n",
       "      <td>3</td>\n",
       "    </tr>\n",
       "    <tr>\n",
       "      <th>442</th>\n",
       "      <td>Kobi Simmons</td>\n",
       "      <td>2.0</td>\n",
       "      <td>2.0</td>\n",
       "      <td>1</td>\n",
       "    </tr>\n",
       "    <tr>\n",
       "      <th>405</th>\n",
       "      <td>Zhou Qi</td>\n",
       "      <td>1.0</td>\n",
       "      <td>1.0</td>\n",
       "      <td>1</td>\n",
       "    </tr>\n",
       "  </tbody>\n",
       "</table>\n",
       "<p>521 rows × 4 columns</p>\n",
       "</div>"
      ],
      "text/plain": [
       "               Name  total_min    MP   G\n",
       "37     Bradley Beal     3025.8  36.9  82\n",
       "202    James Harden     2870.4  36.8  78\n",
       "486    Kemba Walker     2861.8  34.9  82\n",
       "208   Tobias Harris     2845.4  34.7  82\n",
       "179     Paul George     2841.3  36.9  77\n",
       "..              ...        ...   ...  ..\n",
       "268  Terrence Jones        5.0   2.5   2\n",
       "439   Jordan Sibert        4.0   4.0   1\n",
       "192  Donte Grantham        2.1   0.7   3\n",
       "442    Kobi Simmons        2.0   2.0   1\n",
       "405         Zhou Qi        1.0   1.0   1\n",
       "\n",
       "[521 rows x 4 columns]"
      ]
     },
     "execution_count": 41,
     "metadata": {},
     "output_type": "execute_result"
    }
   ],
   "source": [
    "nba_1819['total_min'] = nba_1819['MP'] * nba_1819['G']\n",
    "\n",
    "nba_1819[['Name', 'total_min', 'MP', 'G']].sort_values(by = 'total_min', ascending = False)"
   ]
  },
  {
   "cell_type": "markdown",
   "metadata": {},
   "source": [
    "# What player given their player effiecency rating was the clutchest during the season?"
   ]
  },
  {
   "cell_type": "code",
   "execution_count": 46,
   "metadata": {},
   "outputs": [
    {
     "data": {
      "text/plain": [
       "'Zhou Qi'"
      ]
     },
     "execution_count": 46,
     "metadata": {},
     "output_type": "execute_result"
    }
   ],
   "source": [
    "max_per = df['PER'].max()\n",
    "player_clutch = df.loc[df['PER'] == max_per, 'Name'].iloc[0]\n",
    "player_clutch"
   ]
  },
  {
   "cell_type": "markdown",
   "metadata": {},
   "source": [
    "# What team had the youngest roster?"
   ]
  },
  {
   "cell_type": "code",
   "execution_count": 48,
   "metadata": {},
   "outputs": [
    {
     "data": {
      "text/plain": [
       "'Brooklyn Nets'"
      ]
     },
     "execution_count": 48,
     "metadata": {},
     "output_type": "execute_result"
    }
   ],
   "source": [
    "youngest = df.groupby('Team')['Age'].min()\n",
    "team_youngest = youngest.idxmin()\n",
    "team_youngest"
   ]
  },
  {
   "cell_type": "markdown",
   "metadata": {},
   "source": [
    "# Who is the highest paid player during the seasion?"
   ]
  },
  {
   "cell_type": "code",
   "execution_count": 52,
   "metadata": {},
   "outputs": [
    {
     "data": {
      "text/plain": [
       "'John Jenkins'"
      ]
     },
     "execution_count": 52,
     "metadata": {},
     "output_type": "execute_result"
    }
   ],
   "source": [
    "max_salary = df['Salary'].max()\n",
    "most_paid_player = df.loc[df['Salary'] == max_salary, 'Name'].iloc[0]\n",
    "most_paid_player"
   ]
  },
  {
   "cell_type": "markdown",
   "metadata": {},
   "source": [
    "# At the end of a game, who WOULDN'T you want on the Free Throw Line?"
   ]
  },
  {
   "cell_type": "code",
   "execution_count": 50,
   "metadata": {},
   "outputs": [
    {
     "data": {
      "text/plain": [
       "'Jacob Evans'"
      ]
     },
     "execution_count": 50,
     "metadata": {},
     "output_type": "execute_result"
    }
   ],
   "source": [
    "# lowest_percent = nba_1819[nba_1819['FT%'] == 0]\n",
    "# lowest_average = nba_1819[nba_1819['FTA'] < 1]\n",
    "\n",
    "# low_score = lowest_percent.merge(lowest_average, on = 'Name', how = 'inner')\n",
    "# low_score\n",
    "\n",
    "bad_free_throws = df['FT%'].min()\n",
    "lowest_FT = df.loc[df['FT%'] == bad_free_throws, 'Name'].iloc[0]\n",
    "lowest_FT"
   ]
  },
  {
   "cell_type": "code",
   "execution_count": null,
   "metadata": {},
   "outputs": [],
   "source": []
  }
 ],
 "metadata": {
  "kernelspec": {
   "display_name": "Python 3 (ipykernel)",
   "language": "python",
   "name": "python3"
  },
  "language_info": {
   "codemirror_mode": {
    "name": "ipython",
    "version": 3
   },
   "file_extension": ".py",
   "mimetype": "text/x-python",
   "name": "python",
   "nbconvert_exporter": "python",
   "pygments_lexer": "ipython3",
   "version": "3.9.13"
  }
 },
 "nbformat": 4,
 "nbformat_minor": 4
}
